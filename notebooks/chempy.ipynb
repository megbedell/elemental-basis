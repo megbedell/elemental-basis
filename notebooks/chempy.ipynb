{
 "cells": [
  {
   "cell_type": "markdown",
   "metadata": {},
   "source": [
    "## Interpreting abundances with chempy"
   ]
  },
  {
   "cell_type": "code",
   "execution_count": 1,
   "metadata": {},
   "outputs": [
    {
     "name": "stdout",
     "output_type": "stream",
     "text": [
      "Populating the interactive namespace from numpy and matplotlib\n"
     ]
    }
   ],
   "source": [
    "%pylab inline"
   ]
  },
  {
   "cell_type": "code",
   "execution_count": 2,
   "metadata": {},
   "outputs": [],
   "source": [
    "import numpy as np\n",
    "import matplotlib.pyplot as plt\n",
    "from astropy.table import Table"
   ]
  },
  {
   "cell_type": "code",
   "execution_count": 3,
   "metadata": {},
   "outputs": [],
   "source": [
    "data = Table.read('../data/STs_for_chempy.fits', format='fits')\n",
    "el_names = data.colnames[3::2] # magic\n",
    "err_names = data.colnames[4::2]\n"
   ]
  },
  {
   "cell_type": "markdown",
   "metadata": {},
   "source": [
    "#### load up Jan's Solar abundances:"
   ]
  },
  {
   "cell_type": "code",
   "execution_count": 8,
   "metadata": {},
   "outputs": [
    {
     "name": "stdout",
     "output_type": "stream",
     "text": [
      "Fe -0.05236939885020275 +- 0.061973267953103796\n",
      "O 0.14124797676453404 +- 0.07958465573507391\n",
      "Na 0.2703209968721536 +- 0.07845643376718812\n",
      "Mg 0.025945304509467526 +- 0.07041198047974788\n",
      "Al 0.11384539100839808 +- 0.08147465702227544\n",
      "Si 0.21571735741698372 +- 0.037009385325165914\n",
      "S 0.19014242128613423 +- 0.039907886691498966\n",
      "Ca 0.00883028042476841 +- 0.04411411675457362\n",
      "V -0.16723689314414703 +- 0.02841648899149541\n",
      "Mn 0.11060540169168309 +- 0.03927567799253105\n",
      "Co -0.06394600865761602 +- 0.06060708205475778\n",
      "Ni 0.2165610291078881 +- 0.025279463574813043\n",
      "Cu -0.10756046441771971 +- 0.10607712986082651\n",
      "Zn -0.2513681328253119 +- 0.07967744528596993\n",
      "C 0.057576876578344205 +- 0.06783522714011568\n",
      "Ti -0.17631813386302841 +- 0.04299903911234888\n",
      "Sc -0.34388003870911454 +- 0.10127600441322712\n",
      "Cr 0.07789504160256833 +- 0.010311644615551785\n"
     ]
    }
   ],
   "source": [
    "x = np.load(\"../data/[2]posterior_100_Sun-predictions.npy\")\n",
    "y = np.load(\"../data/[3]predicted_element_names.npy\")\n",
    "for i,item in enumerate(y):\n",
    "    print(item,np.median(x[:,i]),'+-',np.std(x[:,i]))"
   ]
  },
  {
   "cell_type": "code",
   "execution_count": 28,
   "metadata": {},
   "outputs": [
    {
     "data": {
      "image/png": "[encoded data removed]",
      "text/plain": [
       "<Figure size 432x288 with 1 Axes>"
      ]
     },
     "metadata": {},
     "output_type": "display_data"
    }
   ],
   "source": [
    "plt.errorbar(np.arange(len(y)), np.median(x, axis=0), yerr=np.std(x, axis=0), fmt='o')\n",
    "plt.xticks(np.arange(len(y)), y);"
   ]
  },
  {
   "cell_type": "markdown",
   "metadata": {},
   "source": [
    "#### now make a new dataset having propagated the Solar offsets through:"
   ]
  },
  {
   "cell_type": "code",
   "execution_count": 38,
   "metadata": {},
   "outputs": [],
   "source": [
    "el_to_delete = np.asarray(el_names)[~np.isin(el_names, y)]"
   ]
  },
  {
   "cell_type": "code",
   "execution_count": 39,
   "metadata": {},
   "outputs": [],
   "source": [
    "data.remove_columns(el_to_delete)"
   ]
  },
  {
   "cell_type": "code",
   "execution_count": 42,
   "metadata": {},
   "outputs": [],
   "source": [
    "data.remove_columns(['{0}_err'.format(e) for e in el_to_delete])"
   ]
  },
  {
   "cell_type": "code",
   "execution_count": 44,
   "metadata": {},
   "outputs": [
    {
     "data": {
      "text/html": [
       "<i>Table length=79</i>\n",
       "<table id=\"table4434052824\" class=\"table-striped table-bordered table-condensed\">\n",
       "<thead><tr><th>star_name</th><th>age</th><th>age_err</th><th>Fe</th><th>Fe_err</th><th>O</th><th>O_err</th><th>Na</th><th>Na_err</th><th>Mg</th><th>Mg_err</th><th>Al</th><th>Al_err</th><th>Si</th><th>Si_err</th><th>S</th><th>S_err</th><th>Ca</th><th>Ca_err</th><th>V</th><th>V_err</th><th>Mn</th><th>Mn_err</th><th>Co</th><th>Co_err</th><th>Ni</th><th>Ni_err</th><th>Cu</th><th>Cu_err</th><th>Zn</th><th>Zn_err</th><th>C</th><th>C_err</th><th>Ti</th><th>Ti_err</th><th>Sc</th><th>Sc_err</th><th>Cr</th><th>Cr_err</th></tr></thead>\n",
       "<thead><tr><th>bytes9</th><th>float64</th><th>float64</th><th>float64</th><th>float64</th><th>float64</th><th>float64</th><th>float64</th><th>float64</th><th>float64</th><th>float64</th><th>float64</th><th>float64</th><th>float64</th><th>float64</th><th>float64</th><th>float64</th><th>float64</th><th>float64</th><th>float64</th><th>float64</th><th>float64</th><th>float64</th><th>float64</th><th>float64</th><th>float64</th><th>float64</th><th>float64</th><th>float64</th><th>float64</th><th>float64</th><th>float64</th><th>float64</th><th>float64</th><th>float64</th><th>float64</th><th>float64</th><th>float64</th><th>float64</th></tr></thead>\n",
       "<tr><td>HIP10175</td><td>3.2</td><td>0.4</td><td>-0.028</td><td>0.002</td><td>0.024</td><td>0.009</td><td>-0.051000000000000004</td><td>0.022</td><td>-0.006000000000000002</td><td>0.007</td><td>-0.034</td><td>0.008</td><td>-0.009999999999999998</td><td>0.003</td><td>0.0020000000000000018</td><td>0.012</td><td>0.023</td><td>0.005</td><td>-0.0019999999999999983</td><td>0.004</td><td>-0.029</td><td>0.005</td><td>-0.028</td><td>0.004</td><td>-0.04100000000000001</td><td>0.003</td><td>-0.05600000000000001</td><td>0.013</td><td>-0.048</td><td>0.006</td><td>-0.05176923076923076</td><td>0.013000000000000001</td><td>0.012</td><td>0.01</td><td>-0.019000000000000003</td><td>0.020999999999999998</td><td>0.007750000000000001</td><td>0.012</td></tr>\n",
       "<tr><td>HIP101905</td><td>1.2</td><td>0.3</td><td>0.088</td><td>0.004</td><td>-0.06899999999999999</td><td>0.014</td><td>-0.093</td><td>0.012</td><td>-0.025999999999999995</td><td>0.008</td><td>-0.033999999999999996</td><td>0.002</td><td>-0.024999999999999994</td><td>0.004</td><td>-0.104</td><td>0.027</td><td>0.024000000000000007</td><td>0.005</td><td>0.0050000000000000044</td><td>0.009</td><td>-0.04599999999999999</td><td>0.006</td><td>-0.03799999999999999</td><td>0.005</td><td>-0.03799999999999999</td><td>0.005</td><td>-0.08499999999999999</td><td>0.031</td><td>-0.09699999999999999</td><td>0.016</td><td>-0.11374193548387096</td><td>0.031</td><td>0.009076923076923078</td><td>0.013000000000000001</td><td>-0.008058823529411757</td><td>0.017</td><td>-0.004749999999999994</td><td>0.016</td></tr>\n",
       "<tr><td>HIP102040</td><td>2.4</td><td>0.4</td><td>-0.08</td><td>0.003</td><td>0.022</td><td>0.006</td><td>-0.071</td><td>0.008</td><td>0.0020000000000000018</td><td>0.003</td><td>-0.021000000000000005</td><td>0.008</td><td>-0.0040000000000000036</td><td>0.005</td><td>-0.06499999999999999</td><td>0.014</td><td>0.034</td><td>0.005</td><td>0.0</td><td>0.006</td><td>-0.06299999999999999</td><td>0.005</td><td>-0.012999999999999998</td><td>0.007</td><td>-0.03799999999999999</td><td>0.004</td><td>-0.06599999999999999</td><td>0.034</td><td>-0.077</td><td>0.02</td><td>-0.019789473684210527</td><td>0.056999999999999995</td><td>0.029545454545454552</td><td>0.011</td><td>0.0178</td><td>0.034999999999999996</td><td>-0.007249999999999993</td><td>0.016</td></tr>\n",
       "<tr><td>HIP102152</td><td>8.6</td><td>0.3</td><td>-0.016</td><td>0.003</td><td>0.051000000000000004</td><td>0.01</td><td>-0.027999999999999997</td><td>0.014</td><td>0.031</td><td>0.01</td><td>0.026000000000000002</td><td>0.004</td><td>0.003000000000000001</td><td>0.003</td><td>-0.012</td><td>0.022</td><td>0.006</td><td>0.005</td><td>-0.009000000000000001</td><td>0.006</td><td>-0.026999999999999996</td><td>0.005</td><td>-0.018000000000000002</td><td>0.008</td><td>-0.017</td><td>0.004</td><td>0.002</td><td>0.004</td><td>0.004</td><td>0.011</td><td>0.001285714285714285</td><td>0.014</td><td>0.0035454545454545456</td><td>0.011</td><td>-0.00975</td><td>0.016</td><td>-0.002230769230769232</td><td>0.013</td></tr>\n",
       "<tr><td>HIP10303</td><td>5.8</td><td>0.4</td><td>0.104</td><td>0.003</td><td>-0.022999999999999993</td><td>0.007</td><td>-0.0020000000000000018</td><td>0.012</td><td>0.017</td><td>0.005</td><td>0.033000000000000015</td><td>0.004</td><td>0.0040000000000000036</td><td>0.002</td><td>-0.023999999999999994</td><td>0.014</td><td>0.0050000000000000044</td><td>0.003</td><td>0.015</td><td>0.006</td><td>0.019000000000000003</td><td>0.004</td><td>0.0</td><td>0.005</td><td>0.020000000000000004</td><td>0.004</td><td>0.013999999999999999</td><td>0.021</td><td>0.0040000000000000036</td><td>0.02</td><td>-0.033571428571428565</td><td>0.007</td><td>0.009727272727272737</td><td>0.011</td><td>0.005250000000000009</td><td>0.016</td><td>0.00758333333333334</td><td>0.012</td></tr>\n",
       "<tr><td>HIP104045</td><td>4.5</td><td>0.5</td><td>0.051</td><td>0.003</td><td>-0.015999999999999993</td><td>0.008</td><td>-0.024999999999999998</td><td>0.009</td><td>-0.010999999999999996</td><td>0.004</td><td>-0.012999999999999998</td><td>0.004</td><td>-0.005999999999999998</td><td>0.002</td><td>-0.006999999999999999</td><td>0.028</td><td>0.008</td><td>0.005</td><td>-0.008999999999999994</td><td>0.005</td><td>-0.005999999999999998</td><td>0.004</td><td>-0.013999999999999999</td><td>0.004</td><td>-0.0029999999999999957</td><td>0.003</td><td>-0.019999999999999997</td><td>0.006</td><td>-0.028999999999999998</td><td>0.01</td><td>-0.042466666666666666</td><td>0.015</td><td>-0.00736363636363636</td><td>0.011</td><td>-0.015789473684210527</td><td>0.019</td><td>0.0030000000000000053</td><td>0.01</td></tr>\n",
       "<tr><td>HIP105184</td><td>0.7</td><td>0.4</td><td>0.003</td><td>0.004</td><td>-0.005</td><td>0.013</td><td>-0.063</td><td>0.013</td><td>-0.009000000000000001</td><td>0.009</td><td>-0.038000000000000006</td><td>0.013</td><td>-0.013999999999999999</td><td>0.004</td><td>-0.047</td><td>0.016</td><td>0.039</td><td>0.005</td><td>0.005</td><td>0.008</td><td>-0.053000000000000005</td><td>0.005</td><td>-0.039</td><td>0.005</td><td>-0.054</td><td>0.005</td><td>-0.084</td><td>0.028</td><td>-0.079</td><td>0.013</td><td>-0.0871904761904762</td><td>0.020999999999999998</td><td>0.018076923076923077</td><td>0.013000000000000001</td><td>-0.007705882352941177</td><td>0.017</td><td>0.009666666666666665</td><td>0.018000000000000002</td></tr>\n",
       "<tr><td>HIP108158</td><td>8.1</td><td>0.3</td><td>0.055</td><td>0.003</td><td>0.14300000000000002</td><td>0.011</td><td>0.032999999999999995</td><td>0.008</td><td>0.138</td><td>0.011</td><td>0.155</td><td>0.012</td><td>0.063</td><td>0.002</td><td>0.096</td><td>0.022</td><td>0.04699999999999999</td><td>0.005</td><td>0.07800000000000001</td><td>0.008</td><td>-0.022</td><td>0.004</td><td>0.07300000000000001</td><td>0.004</td><td>0.027000000000000003</td><td>0.005</td><td>0.10900000000000001</td><td>0.026</td><td>0.136</td><td>0.017</td><td>0.0653076923076923</td><td>0.013000000000000001</td><td>0.10450000000000001</td><td>0.012</td><td>0.09322222222222222</td><td>0.018000000000000002</td><td>0.018047619047619045</td><td>0.021</td></tr>\n",
       "<tr><td>HIP108468</td><td>7.0</td><td>0.3</td><td>-0.096</td><td>0.004</td><td>0.055</td><td>0.008</td><td>-0.044999999999999984</td><td>0.008</td><td>0.037000000000000005</td><td>0.01</td><td>0.034</td><td>0.004</td><td>0.007000000000000006</td><td>0.002</td><td>-0.011999999999999997</td><td>0.012</td><td>0.018000000000000002</td><td>0.005</td><td>-0.008999999999999994</td><td>0.006</td><td>-0.05299999999999999</td><td>0.005</td><td>-0.011999999999999997</td><td>0.004</td><td>-0.028999999999999998</td><td>0.004</td><td>-0.021999999999999992</td><td>0.024</td><td>-0.034</td><td>0.009</td><td>0.0006250000000000041</td><td>0.016</td><td>0.018272727272727274</td><td>0.011</td><td>0.005999999999999998</td><td>0.014</td><td>-0.0011538461538461511</td><td>0.013</td></tr>\n",
       "<tr><td>HIP109821</td><td>8.9</td><td>0.3</td><td>-0.108</td><td>0.004</td><td>0.123</td><td>0.013</td><td>-0.03899999999999999</td><td>0.011</td><td>0.082</td><td>0.007</td><td>0.098</td><td>0.004</td><td>0.035</td><td>0.004</td><td>0.033</td><td>0.014</td><td>0.047</td><td>0.005</td><td>0.016</td><td>0.006</td><td>-0.078</td><td>0.005</td><td>0.007999999999999993</td><td>0.004</td><td>-0.02800000000000001</td><td>0.004</td><td>0.010999999999999996</td><td>0.012</td><td>0.010999999999999996</td><td>0.005</td><td>0.08114285714285714</td><td>0.028</td><td>0.0745</td><td>0.012</td><td>0.039999999999999994</td><td>0.018000000000000002</td><td>-0.005499999999999998</td><td>0.01</td></tr>\n",
       "<tr><td>...</td><td>...</td><td>...</td><td>...</td><td>...</td><td>...</td><td>...</td><td>...</td><td>...</td><td>...</td><td>...</td><td>...</td><td>...</td><td>...</td><td>...</td><td>...</td><td>...</td><td>...</td><td>...</td><td>...</td><td>...</td><td>...</td><td>...</td><td>...</td><td>...</td><td>...</td><td>...</td><td>...</td><td>...</td><td>...</td><td>...</td><td>...</td><td>...</td><td>...</td><td>...</td><td>...</td><td>...</td><td>...</td><td>...</td></tr>\n",
       "<tr><td>HIP79672</td><td>4.0</td><td>0.4</td><td>0.041</td><td>0.003</td><td>-0.0040000000000000036</td><td>0.006</td><td>-0.02</td><td>0.009</td><td>0.0049999999999999975</td><td>0.009</td><td>-0.013000000000000001</td><td>0.002</td><td>0.0</td><td>0.002</td><td>-0.025</td><td>0.003</td><td>0.012999999999999998</td><td>0.004</td><td>-0.005999999999999998</td><td>0.004</td><td>-0.005999999999999998</td><td>0.004</td><td>-0.02</td><td>0.004</td><td>-0.009000000000000001</td><td>0.003</td><td>-0.012</td><td>0.012</td><td>-0.019000000000000003</td><td>0.006</td><td>-0.056916666666666664</td><td>0.012</td><td>0.006111111111111109</td><td>0.009000000000000001</td><td>-0.014352941176470591</td><td>0.017</td><td>0.007363636363636365</td><td>0.011</td></tr>\n",
       "<tr><td>HIP81746</td><td>8.1</td><td>0.3</td><td>-0.091</td><td>0.003</td><td>0.066</td><td>0.013</td><td>-0.009000000000000008</td><td>0.01</td><td>0.055999999999999994</td><td>0.006</td><td>0.073</td><td>0.006</td><td>0.040999999999999995</td><td>0.003</td><td>0.034999999999999996</td><td>0.022</td><td>0.04</td><td>0.004</td><td>0.03</td><td>0.005</td><td>-0.04000000000000001</td><td>0.004</td><td>0.026999999999999996</td><td>0.004</td><td>0.0030000000000000027</td><td>0.003</td><td>0.017</td><td>0.004</td><td>-0.0050000000000000044</td><td>0.011</td><td>0.006857142857142852</td><td>0.020999999999999998</td><td>0.04959999999999999</td><td>0.01</td><td>0.032499999999999994</td><td>0.014</td><td>-0.0037272727272727314</td><td>0.011</td></tr>\n",
       "<tr><td>HIP83276</td><td>7.4</td><td>0.3</td><td>-0.093</td><td>0.005</td><td>0.072</td><td>0.01</td><td>-0.04200000000000001</td><td>0.008</td><td>0.020000000000000004</td><td>0.006</td><td>0.022000000000000006</td><td>0.01</td><td>0.016</td><td>0.004</td><td>0.062</td><td>0.033</td><td>0.022000000000000006</td><td>0.007</td><td>-0.016</td><td>0.011</td><td>-0.066</td><td>0.007</td><td>-0.021000000000000005</td><td>0.008</td><td>-0.032</td><td>0.006</td><td>-0.019000000000000003</td><td>0.028</td><td>-0.04300000000000001</td><td>0.01</td><td>0.0235</td><td>0.02</td><td>0.019571428571428573</td><td>0.014</td><td>0.015130434782608693</td><td>0.023</td><td>-0.004705882352941176</td><td>0.017</td></tr>\n",
       "<tr><td>HIP85042</td><td>7.8</td><td>0.3</td><td>0.03</td><td>0.003</td><td>0.025</td><td>0.016</td><td>-0.020999999999999998</td><td>0.013</td><td>0.031</td><td>0.005</td><td>0.05500000000000001</td><td>0.01</td><td>0.0</td><td>0.002</td><td>-0.027</td><td>0.021</td><td>0.019000000000000003</td><td>0.004</td><td>0.017</td><td>0.005</td><td>-0.020999999999999998</td><td>0.004</td><td>0.0020000000000000018</td><td>0.007</td><td>0.011000000000000003</td><td>0.004</td><td>0.012999999999999998</td><td>0.008</td><td>-0.008999999999999998</td><td>0.013</td><td>-0.04466666666666667</td><td>0.012</td><td>0.024333333333333332</td><td>0.009000000000000001</td><td>0.036307692307692305</td><td>0.039</td><td>-0.0028888888888888875</td><td>0.009000000000000001</td></tr>\n",
       "<tr><td>HIP8507</td><td>4.8</td><td>0.5</td><td>-0.099</td><td>0.003</td><td>0.018000000000000002</td><td>0.009</td><td>-0.046999999999999986</td><td>0.013</td><td>0.015</td><td>0.007</td><td>0.009000000000000008</td><td>0.001</td><td>-0.0010000000000000009</td><td>0.003</td><td>-0.027999999999999997</td><td>0.028</td><td>0.034</td><td>0.003</td><td>0.015</td><td>0.006</td><td>-0.04899999999999999</td><td>0.006</td><td>-0.017</td><td>0.005</td><td>-0.026999999999999996</td><td>0.003</td><td>-0.044999999999999984</td><td>0.022</td><td>-0.046999999999999986</td><td>0.008</td><td>-0.0755</td><td>0.018</td><td>0.030909090909090914</td><td>0.011</td><td>-0.0014090909090909009</td><td>0.022</td><td>0.0066363636363636425</td><td>0.011</td></tr>\n",
       "<tr><td>HIP87769</td><td>4.6</td><td>0.6</td><td>0.072</td><td>0.004</td><td>-0.0059999999999999915</td><td>0.015</td><td>0.023000000000000007</td><td>0.01</td><td>0.01100000000000001</td><td>0.008</td><td>0.009000000000000008</td><td>0.004</td><td>0.0</td><td>0.003</td><td>0.024000000000000007</td><td>0.01</td><td>0.020000000000000004</td><td>0.004</td><td>0.016</td><td>0.007</td><td>0.008000000000000007</td><td>0.005</td><td>-0.001999999999999988</td><td>0.005</td><td>0.008000000000000007</td><td>0.004</td><td>-0.0049999999999999906</td><td>0.004</td><td>0.01100000000000001</td><td>0.006</td><td>-0.011599999999999994</td><td>0.02</td><td>0.0030000000000000027</td><td>0.01</td><td>0.01100000000000001</td><td>0.024</td><td>0.01150000000000001</td><td>0.01</td></tr>\n",
       "<tr><td>HIP89650</td><td>4.6</td><td>0.5</td><td>-0.015</td><td>0.003</td><td>0.047</td><td>0.014</td><td>0.032</td><td>0.009</td><td>0.036000000000000004</td><td>0.011</td><td>0.023</td><td>0.003</td><td>0.015</td><td>0.004</td><td>0.033</td><td>0.024</td><td>0.0</td><td>0.004</td><td>0.012</td><td>0.005</td><td>-0.005000000000000001</td><td>0.005</td><td>0.03</td><td>0.004</td><td>0.008</td><td>0.004</td><td>0.027999999999999997</td><td>0.004</td><td>0.019</td><td>0.007</td><td>0.03511111111111111</td><td>0.009000000000000001</td><td>0.0057777777777777775</td><td>0.009000000000000001</td><td>0.025769230769230766</td><td>0.013000000000000001</td><td>0.0007272727272727271</td><td>0.011</td></tr>\n",
       "<tr><td>HIP9349</td><td>0.7</td><td>0.4</td><td>-0.006</td><td>0.005</td><td>0.003</td><td>0.011</td><td>-0.042</td><td>0.012</td><td>-0.034</td><td>0.015</td><td>-0.048</td><td>0.004</td><td>-0.023</td><td>0.003</td><td>-0.017</td><td>0.013</td><td>0.023</td><td>0.006</td><td>0.003</td><td>0.008</td><td>-0.013</td><td>0.008</td><td>-0.038</td><td>0.007</td><td>-0.047</td><td>0.006</td><td>-0.078</td><td>0.033</td><td>-0.058</td><td>0.012</td><td>-0.0395</td><td>0.014</td><td>-0.005076923076923077</td><td>0.013000000000000001</td><td>-0.010000000000000002</td><td>0.024</td><td>0.0098125</td><td>0.016</td></tr>\n",
       "<tr><td>HIP95962</td><td>6.0</td><td>0.3</td><td>0.029</td><td>0.003</td><td>0.0019999999999999983</td><td>0.004</td><td>0.030999999999999996</td><td>0.013</td><td>0.015999999999999997</td><td>0.005</td><td>0.021</td><td>0.006</td><td>0.009999999999999998</td><td>0.003</td><td>0.022999999999999996</td><td>0.008</td><td>0.008999999999999998</td><td>0.005</td><td>0.005000000000000001</td><td>0.004</td><td>0.012</td><td>0.004</td><td>0.009999999999999998</td><td>0.005</td><td>0.014999999999999996</td><td>0.003</td><td>0.028</td><td>0.005</td><td>0.006999999999999996</td><td>0.009</td><td>0.018750000000000003</td><td>0.008</td><td>0.0037777777777777775</td><td>0.009000000000000001</td><td>0.009333333333333334</td><td>0.020999999999999998</td><td>-0.004</td><td>0.008</td></tr>\n",
       "<tr><td>HIP96160</td><td>2.6</td><td>0.5</td><td>-0.036</td><td>0.003</td><td>0.023</td><td>0.007</td><td>-0.015</td><td>0.014</td><td>0.0</td><td>0.01</td><td>-0.015</td><td>0.003</td><td>0.000999999999999994</td><td>0.004</td><td>0.016999999999999998</td><td>0.013</td><td>0.023999999999999997</td><td>0.005</td><td>0.009999999999999998</td><td>0.007</td><td>-0.019000000000000003</td><td>0.004</td><td>-0.009000000000000001</td><td>0.006</td><td>-0.031000000000000007</td><td>0.004</td><td>-0.04900000000000001</td><td>0.013</td><td>-0.028000000000000004</td><td>0.008</td><td>-0.0325</td><td>0.008</td><td>0.009727272727272723</td><td>0.011</td><td>0.0014999999999999974</td><td>0.018</td><td>0.009999999999999998</td><td>0.013000000000000001</td></tr>\n",
       "</table>"
      ],
      "text/plain": [
       "<Table length=79>\n",
       "star_name   age   age_err ...           Cr                  Cr_err       \n",
       "  bytes9  float64 float64 ...        float64               float64       \n",
       "--------- ------- ------- ... ---------------------- --------------------\n",
       " HIP10175     3.2     0.4 ...   0.007750000000000001                0.012\n",
       "HIP101905     1.2     0.3 ...  -0.004749999999999994                0.016\n",
       "HIP102040     2.4     0.4 ...  -0.007249999999999993                0.016\n",
       "HIP102152     8.6     0.3 ...  -0.002230769230769232                0.013\n",
       " HIP10303     5.8     0.4 ...    0.00758333333333334                0.012\n",
       "HIP104045     4.5     0.5 ...  0.0030000000000000053                 0.01\n",
       "HIP105184     0.7     0.4 ...   0.009666666666666665 0.018000000000000002\n",
       "HIP108158     8.1     0.3 ...   0.018047619047619045                0.021\n",
       "HIP108468     7.0     0.3 ... -0.0011538461538461511                0.013\n",
       "HIP109821     8.9     0.3 ...  -0.005499999999999998                 0.01\n",
       "      ...     ...     ... ...                    ...                  ...\n",
       " HIP79672     4.0     0.4 ...   0.007363636363636365                0.011\n",
       " HIP81746     8.1     0.3 ... -0.0037272727272727314                0.011\n",
       " HIP83276     7.4     0.3 ...  -0.004705882352941176                0.017\n",
       " HIP85042     7.8     0.3 ... -0.0028888888888888875 0.009000000000000001\n",
       "  HIP8507     4.8     0.5 ...  0.0066363636363636425                0.011\n",
       " HIP87769     4.6     0.6 ...    0.01150000000000001                 0.01\n",
       " HIP89650     4.6     0.5 ...  0.0007272727272727271                0.011\n",
       "  HIP9349     0.7     0.4 ...              0.0098125                0.016\n",
       " HIP95962     6.0     0.3 ...                 -0.004                0.008\n",
       " HIP96160     2.6     0.5 ...   0.009999999999999998 0.013000000000000001"
      ]
     },
     "execution_count": 44,
     "metadata": {},
     "output_type": "execute_result"
    }
   ],
   "source": [
    "data"
   ]
  },
  {
   "cell_type": "code",
   "execution_count": 45,
   "metadata": {},
   "outputs": [],
   "source": [
    "for i,item in enumerate(y):\n",
    "    data[item] += np.median(x[:,i])"
   ]
  },
  {
   "cell_type": "code",
   "execution_count": 46,
   "metadata": {},
   "outputs": [
    {
     "data": {
      "text/html": [
       "<i>Table length=79</i>\n",
       "<table id=\"table4434052824\" class=\"table-striped table-bordered table-condensed\">\n",
       "<thead><tr><th>star_name</th><th>age</th><th>age_err</th><th>Fe</th><th>Fe_err</th><th>O</th><th>O_err</th><th>Na</th><th>Na_err</th><th>Mg</th><th>Mg_err</th><th>Al</th><th>Al_err</th><th>Si</th><th>Si_err</th><th>S</th><th>S_err</th><th>Ca</th><th>Ca_err</th><th>V</th><th>V_err</th><th>Mn</th><th>Mn_err</th><th>Co</th><th>Co_err</th><th>Ni</th><th>Ni_err</th><th>Cu</th><th>Cu_err</th><th>Zn</th><th>Zn_err</th><th>C</th><th>C_err</th><th>Ti</th><th>Ti_err</th><th>Sc</th><th>Sc_err</th><th>Cr</th><th>Cr_err</th></tr></thead>\n",
       "<thead><tr><th>bytes9</th><th>float64</th><th>float64</th><th>float64</th><th>float64</th><th>float64</th><th>float64</th><th>float64</th><th>float64</th><th>float64</th><th>float64</th><th>float64</th><th>float64</th><th>float64</th><th>float64</th><th>float64</th><th>float64</th><th>float64</th><th>float64</th><th>float64</th><th>float64</th><th>float64</th><th>float64</th><th>float64</th><th>float64</th><th>float64</th><th>float64</th><th>float64</th><th>float64</th><th>float64</th><th>float64</th><th>float64</th><th>float64</th><th>float64</th><th>float64</th><th>float64</th><th>float64</th><th>float64</th><th>float64</th></tr></thead>\n",
       "<tr><td>HIP10175</td><td>3.2</td><td>0.4</td><td>-0.08036939885020275</td><td>0.002</td><td>0.16524797676453404</td><td>0.009</td><td>0.21932099687215362</td><td>0.022</td><td>0.019945304509467524</td><td>0.007</td><td>0.07984539100839808</td><td>0.008</td><td>0.20571735741698371</td><td>0.003</td><td>0.19214242128613424</td><td>0.012</td><td>0.03183028042476841</td><td>0.005</td><td>-0.16923689314414703</td><td>0.004</td><td>0.0816054016916831</td><td>0.005</td><td>-0.09194600865761601</td><td>0.004</td><td>0.1755610291078881</td><td>0.003</td><td>-0.1635604644177197</td><td>0.013</td><td>-0.2993681328253119</td><td>0.006</td><td>0.005807645809113443</td><td>0.013000000000000001</td><td>-0.1643181338630284</td><td>0.01</td><td>-0.36288003870911456</td><td>0.020999999999999998</td><td>0.08564504160256833</td><td>0.012</td></tr>\n",
       "<tr><td>HIP101905</td><td>1.2</td><td>0.3</td><td>0.03563060114979724</td><td>0.004</td><td>0.07224797676453405</td><td>0.014</td><td>0.1773209968721536</td><td>0.012</td><td>-5.469549053246925e-05</td><td>0.008</td><td>0.07984539100839808</td><td>0.002</td><td>0.19071735741698373</td><td>0.004</td><td>0.08614242128613424</td><td>0.027</td><td>0.03283028042476842</td><td>0.005</td><td>-0.16223689314414702</td><td>0.009</td><td>0.0646054016916831</td><td>0.006</td><td>-0.10194600865761601</td><td>0.005</td><td>0.17856102910788813</td><td>0.005</td><td>-0.1925604644177197</td><td>0.031</td><td>-0.34836813282531187</td><td>0.016</td><td>-0.056165058905526755</td><td>0.031</td><td>-0.16724121078610535</td><td>0.013000000000000001</td><td>-0.35193886223852633</td><td>0.017</td><td>0.07314504160256834</td><td>0.016</td></tr>\n",
       "<tr><td>HIP102040</td><td>2.4</td><td>0.4</td><td>-0.13236939885020277</td><td>0.003</td><td>0.16324797676453404</td><td>0.006</td><td>0.1993209968721536</td><td>0.008</td><td>0.027945304509467528</td><td>0.003</td><td>0.09284539100839807</td><td>0.008</td><td>0.21171735741698372</td><td>0.005</td><td>0.12514242128613423</td><td>0.014</td><td>0.04283028042476841</td><td>0.005</td><td>-0.16723689314414703</td><td>0.006</td><td>0.047605401691683105</td><td>0.005</td><td>-0.07694600865761601</td><td>0.007</td><td>0.17856102910788813</td><td>0.004</td><td>-0.17356046441771972</td><td>0.034</td><td>-0.3283681328253119</td><td>0.02</td><td>0.03778740289413368</td><td>0.056999999999999995</td><td>-0.14677267931757387</td><td>0.011</td><td>-0.32608003870911456</td><td>0.034999999999999996</td><td>0.07064504160256833</td><td>0.016</td></tr>\n",
       "<tr><td>HIP102152</td><td>8.6</td><td>0.3</td><td>-0.06836939885020275</td><td>0.003</td><td>0.19224797676453403</td><td>0.01</td><td>0.2423209968721536</td><td>0.014</td><td>0.056945304509467526</td><td>0.01</td><td>0.13984539100839807</td><td>0.004</td><td>0.21871735741698373</td><td>0.003</td><td>0.17814242128613422</td><td>0.022</td><td>0.014830280424768411</td><td>0.005</td><td>-0.17623689314414703</td><td>0.006</td><td>0.0836054016916831</td><td>0.005</td><td>-0.08194600865761602</td><td>0.008</td><td>0.1995610291078881</td><td>0.004</td><td>-0.10556046441771971</td><td>0.004</td><td>-0.2473681328253119</td><td>0.011</td><td>0.05886259086405849</td><td>0.014</td><td>-0.17277267931757387</td><td>0.011</td><td>-0.3536300387091145</td><td>0.016</td><td>0.0756642723717991</td><td>0.013</td></tr>\n",
       "<tr><td>HIP10303</td><td>5.8</td><td>0.4</td><td>0.05163060114979724</td><td>0.003</td><td>0.11824797676453405</td><td>0.007</td><td>0.2683209968721536</td><td>0.012</td><td>0.04294530450946753</td><td>0.005</td><td>0.1468453910083981</td><td>0.004</td><td>0.21971735741698373</td><td>0.002</td><td>0.16614242128613424</td><td>0.014</td><td>0.013830280424768415</td><td>0.003</td><td>-0.152236893144147</td><td>0.006</td><td>0.1296054016916831</td><td>0.004</td><td>-0.06394600865761602</td><td>0.005</td><td>0.23656102910788812</td><td>0.004</td><td>-0.09356046441771972</td><td>0.021</td><td>-0.2473681328253119</td><td>0.02</td><td>0.02400544800691564</td><td>0.007</td><td>-0.16659086113575566</td><td>0.011</td><td>-0.3386300387091145</td><td>0.016</td><td>0.08547837493590167</td><td>0.012</td></tr>\n",
       "<tr><td>HIP104045</td><td>4.5</td><td>0.5</td><td>-0.0013693988502027563</td><td>0.003</td><td>0.12524797676453406</td><td>0.008</td><td>0.2453209968721536</td><td>0.009</td><td>0.01494530450946753</td><td>0.004</td><td>0.10084539100839808</td><td>0.004</td><td>0.20971735741698372</td><td>0.002</td><td>0.18314242128613423</td><td>0.028</td><td>0.01683028042476841</td><td>0.005</td><td>-0.17623689314414703</td><td>0.005</td><td>0.10460540169168309</td><td>0.004</td><td>-0.07794600865761601</td><td>0.004</td><td>0.2135610291078881</td><td>0.003</td><td>-0.1275604644177197</td><td>0.006</td><td>-0.2803681328253119</td><td>0.01</td><td>0.015110209911677538</td><td>0.015</td><td>-0.18368177022666476</td><td>0.011</td><td>-0.35966951239332506</td><td>0.019</td><td>0.08089504160256833</td><td>0.01</td></tr>\n",
       "<tr><td>HIP105184</td><td>0.7</td><td>0.4</td><td>-0.04936939885020275</td><td>0.004</td><td>0.13624797676453404</td><td>0.013</td><td>0.2073209968721536</td><td>0.013</td><td>0.016945304509467525</td><td>0.009</td><td>0.07584539100839807</td><td>0.013</td><td>0.2017173574169837</td><td>0.004</td><td>0.14314242128613425</td><td>0.016</td><td>0.04783028042476841</td><td>0.005</td><td>-0.16223689314414702</td><td>0.008</td><td>0.057605401691683086</td><td>0.005</td><td>-0.10294600865761602</td><td>0.005</td><td>0.1625610291078881</td><td>0.005</td><td>-0.19156046441771973</td><td>0.028</td><td>-0.3303681328253119</td><td>0.013</td><td>-0.02961359961213199</td><td>0.020999999999999998</td><td>-0.15824121078610534</td><td>0.013000000000000001</td><td>-0.3515859210620557</td><td>0.017</td><td>0.087561708269235</td><td>0.018000000000000002</td></tr>\n",
       "<tr><td>HIP108158</td><td>8.1</td><td>0.3</td><td>0.0026306011497972473</td><td>0.003</td><td>0.28424797676453406</td><td>0.011</td><td>0.3033209968721536</td><td>0.008</td><td>0.16394530450946754</td><td>0.011</td><td>0.2688453910083981</td><td>0.012</td><td>0.2787173574169837</td><td>0.002</td><td>0.2861424212861342</td><td>0.022</td><td>0.055830280424768404</td><td>0.005</td><td>-0.08923689314414701</td><td>0.008</td><td>0.0886054016916831</td><td>0.004</td><td>0.009053991342383994</td><td>0.004</td><td>0.2435610291078881</td><td>0.005</td><td>0.001439535582280299</td><td>0.026</td><td>-0.11536813282531189</td><td>0.017</td><td>0.12288456888603651</td><td>0.013000000000000001</td><td>-0.0718181338630284</td><td>0.012</td><td>-0.25065781648689234</td><td>0.018000000000000002</td><td>0.09594266065018738</td><td>0.021</td></tr>\n",
       "<tr><td>HIP108468</td><td>7.0</td><td>0.3</td><td>-0.14836939885020275</td><td>0.004</td><td>0.19624797676453404</td><td>0.008</td><td>0.22532099687215362</td><td>0.008</td><td>0.06294530450946753</td><td>0.01</td><td>0.14784539100839808</td><td>0.004</td><td>0.22271735741698373</td><td>0.002</td><td>0.17814242128613422</td><td>0.012</td><td>0.026830280424768413</td><td>0.005</td><td>-0.17623689314414703</td><td>0.006</td><td>0.0576054016916831</td><td>0.005</td><td>-0.07594600865761601</td><td>0.004</td><td>0.1875610291078881</td><td>0.004</td><td>-0.1295604644177197</td><td>0.024</td><td>-0.2853681328253119</td><td>0.009</td><td>0.05820187657834421</td><td>0.016</td><td>-0.15804540659030114</td><td>0.011</td><td>-0.33788003870911454</td><td>0.014</td><td>0.07674119544872218</td><td>0.013</td></tr>\n",
       "<tr><td>HIP109821</td><td>8.9</td><td>0.3</td><td>-0.16036939885020274</td><td>0.004</td><td>0.26424797676453404</td><td>0.013</td><td>0.23132099687215363</td><td>0.011</td><td>0.10794530450946753</td><td>0.007</td><td>0.21184539100839808</td><td>0.004</td><td>0.25071735741698375</td><td>0.004</td><td>0.22314242128613423</td><td>0.014</td><td>0.05583028042476841</td><td>0.005</td><td>-0.151236893144147</td><td>0.006</td><td>0.03260540169168309</td><td>0.005</td><td>-0.05594600865761602</td><td>0.004</td><td>0.18856102910788808</td><td>0.004</td><td>-0.09656046441771972</td><td>0.012</td><td>-0.2403681328253119</td><td>0.005</td><td>0.13871973372120133</td><td>0.028</td><td>-0.10181813386302842</td><td>0.012</td><td>-0.30388003870911456</td><td>0.018000000000000002</td><td>0.07239504160256832</td><td>0.01</td></tr>\n",
       "<tr><td>...</td><td>...</td><td>...</td><td>...</td><td>...</td><td>...</td><td>...</td><td>...</td><td>...</td><td>...</td><td>...</td><td>...</td><td>...</td><td>...</td><td>...</td><td>...</td><td>...</td><td>...</td><td>...</td><td>...</td><td>...</td><td>...</td><td>...</td><td>...</td><td>...</td><td>...</td><td>...</td><td>...</td><td>...</td><td>...</td><td>...</td><td>...</td><td>...</td><td>...</td><td>...</td><td>...</td><td>...</td><td>...</td><td>...</td></tr>\n",
       "<tr><td>HIP79672</td><td>4.0</td><td>0.4</td><td>-0.011369398850202751</td><td>0.003</td><td>0.13724797676453404</td><td>0.006</td><td>0.2503209968721536</td><td>0.009</td><td>0.030945304509467524</td><td>0.009</td><td>0.10084539100839808</td><td>0.002</td><td>0.21571735741698372</td><td>0.002</td><td>0.16514242128613424</td><td>0.003</td><td>0.02183028042476841</td><td>0.004</td><td>-0.17323689314414703</td><td>0.004</td><td>0.10460540169168309</td><td>0.004</td><td>-0.08394600865761602</td><td>0.004</td><td>0.2075610291078881</td><td>0.003</td><td>-0.11956046441771971</td><td>0.012</td><td>-0.2703681328253119</td><td>0.006</td><td>0.0006602099116775409</td><td>0.012</td><td>-0.1702070227519173</td><td>0.009000000000000001</td><td>-0.3582329798855851</td><td>0.017</td><td>0.08525867796620469</td><td>0.011</td></tr>\n",
       "<tr><td>HIP81746</td><td>8.1</td><td>0.3</td><td>-0.14336939885020275</td><td>0.003</td><td>0.20724797676453405</td><td>0.013</td><td>0.2613209968721536</td><td>0.01</td><td>0.08194530450946752</td><td>0.006</td><td>0.1868453910083981</td><td>0.006</td><td>0.2567173574169837</td><td>0.003</td><td>0.22514242128613424</td><td>0.022</td><td>0.04883028042476841</td><td>0.004</td><td>-0.13723689314414703</td><td>0.005</td><td>0.07060540169168308</td><td>0.004</td><td>-0.03694600865761602</td><td>0.004</td><td>0.2195610291078881</td><td>0.003</td><td>-0.09056046441771971</td><td>0.004</td><td>-0.2563681328253119</td><td>0.011</td><td>0.06443401943548706</td><td>0.020999999999999998</td><td>-0.12671813386302844</td><td>0.01</td><td>-0.31138003870911457</td><td>0.014</td><td>0.0741677688752956</td><td>0.011</td></tr>\n",
       "<tr><td>HIP83276</td><td>7.4</td><td>0.3</td><td>-0.14536939885020275</td><td>0.005</td><td>0.21324797676453405</td><td>0.01</td><td>0.2283209968721536</td><td>0.008</td><td>0.04594530450946753</td><td>0.006</td><td>0.1358453910083981</td><td>0.01</td><td>0.23171735741698374</td><td>0.004</td><td>0.25214242128613423</td><td>0.033</td><td>0.030830280424768416</td><td>0.007</td><td>-0.18323689314414704</td><td>0.011</td><td>0.04460540169168309</td><td>0.007</td><td>-0.08494600865761602</td><td>0.008</td><td>0.1845610291078881</td><td>0.006</td><td>-0.12656046441771973</td><td>0.028</td><td>-0.29436813282531193</td><td>0.01</td><td>0.0810768765783442</td><td>0.02</td><td>-0.15674670529159984</td><td>0.014</td><td>-0.3287496039265059</td><td>0.023</td><td>0.07318915924962716</td><td>0.017</td></tr>\n",
       "<tr><td>HIP85042</td><td>7.8</td><td>0.3</td><td>-0.022369398850202754</td><td>0.003</td><td>0.16624797676453404</td><td>0.016</td><td>0.24932099687215362</td><td>0.013</td><td>0.056945304509467526</td><td>0.005</td><td>0.16884539100839807</td><td>0.01</td><td>0.21571735741698372</td><td>0.002</td><td>0.16314242128613424</td><td>0.021</td><td>0.027830280424768414</td><td>0.004</td><td>-0.150236893144147</td><td>0.005</td><td>0.0896054016916831</td><td>0.004</td><td>-0.061946008657616014</td><td>0.007</td><td>0.2275610291078881</td><td>0.004</td><td>-0.09456046441771972</td><td>0.008</td><td>-0.2603681328253119</td><td>0.013</td><td>0.012910209911677538</td><td>0.012</td><td>-0.1519848005296951</td><td>0.009000000000000001</td><td>-0.3075723464014222</td><td>0.039</td><td>0.07500615271367944</td><td>0.009000000000000001</td></tr>\n",
       "<tr><td>HIP8507</td><td>4.8</td><td>0.5</td><td>-0.15136939885020276</td><td>0.003</td><td>0.15924797676453406</td><td>0.009</td><td>0.22332099687215362</td><td>0.013</td><td>0.040945304509467526</td><td>0.007</td><td>0.12284539100839809</td><td>0.001</td><td>0.21471735741698372</td><td>0.003</td><td>0.16214242128613424</td><td>0.028</td><td>0.04283028042476841</td><td>0.003</td><td>-0.152236893144147</td><td>0.006</td><td>0.061605401691683104</td><td>0.006</td><td>-0.08094600865761602</td><td>0.005</td><td>0.1895610291078881</td><td>0.003</td><td>-0.1525604644177197</td><td>0.022</td><td>-0.2983681328253119</td><td>0.008</td><td>-0.017923123421655793</td><td>0.018</td><td>-0.1454090429539375</td><td>0.011</td><td>-0.34528912961820546</td><td>0.022</td><td>0.08453140523893198</td><td>0.011</td></tr>\n",
       "<tr><td>HIP87769</td><td>4.6</td><td>0.6</td><td>0.01963060114979724</td><td>0.004</td><td>0.13524797676453404</td><td>0.015</td><td>0.2933209968721536</td><td>0.01</td><td>0.036945304509467536</td><td>0.008</td><td>0.12284539100839809</td><td>0.004</td><td>0.21571735741698372</td><td>0.003</td><td>0.21414242128613425</td><td>0.01</td><td>0.028830280424768415</td><td>0.004</td><td>-0.151236893144147</td><td>0.007</td><td>0.1186054016916831</td><td>0.005</td><td>-0.065946008657616</td><td>0.005</td><td>0.2245610291078881</td><td>0.004</td><td>-0.1125604644177197</td><td>0.004</td><td>-0.2403681328253119</td><td>0.006</td><td>0.04597687657834421</td><td>0.02</td><td>-0.1733181338630284</td><td>0.01</td><td>-0.33288003870911453</td><td>0.024</td><td>0.08939504160256834</td><td>0.01</td></tr>\n",
       "<tr><td>HIP89650</td><td>4.6</td><td>0.5</td><td>-0.06736939885020275</td><td>0.003</td><td>0.18824797676453403</td><td>0.014</td><td>0.30232099687215364</td><td>0.009</td><td>0.06194530450946753</td><td>0.011</td><td>0.13684539100839807</td><td>0.003</td><td>0.23071735741698374</td><td>0.004</td><td>0.22314242128613423</td><td>0.024</td><td>0.00883028042476841</td><td>0.004</td><td>-0.15523689314414701</td><td>0.005</td><td>0.10560540169168309</td><td>0.005</td><td>-0.03394600865761602</td><td>0.004</td><td>0.2245610291078881</td><td>0.004</td><td>-0.07956046441771972</td><td>0.004</td><td>-0.2323681328253119</td><td>0.007</td><td>0.09268798768945531</td><td>0.009000000000000001</td><td>-0.17054035608525064</td><td>0.009000000000000001</td><td>-0.3181108079398838</td><td>0.013000000000000001</td><td>0.07862231432984106</td><td>0.011</td></tr>\n",
       "<tr><td>HIP9349</td><td>0.7</td><td>0.4</td><td>-0.05836939885020275</td><td>0.005</td><td>0.14424797676453405</td><td>0.011</td><td>0.2283209968721536</td><td>0.012</td><td>-0.008054695490532476</td><td>0.015</td><td>0.06584539100839808</td><td>0.004</td><td>0.19271735741698373</td><td>0.003</td><td>0.17314242128613422</td><td>0.013</td><td>0.03183028042476841</td><td>0.006</td><td>-0.16423689314414702</td><td>0.008</td><td>0.0976054016916831</td><td>0.008</td><td>-0.10194600865761602</td><td>0.007</td><td>0.16956102910788812</td><td>0.006</td><td>-0.18556046441771973</td><td>0.033</td><td>-0.3093681328253119</td><td>0.012</td><td>0.018076876578344205</td><td>0.014</td><td>-0.1813950569399515</td><td>0.013000000000000001</td><td>-0.35388003870911455</td><td>0.024</td><td>0.08770754160256833</td><td>0.016</td></tr>\n",
       "<tr><td>HIP95962</td><td>6.0</td><td>0.3</td><td>-0.02336939885020275</td><td>0.003</td><td>0.14324797676453405</td><td>0.004</td><td>0.3013209968721536</td><td>0.013</td><td>0.041945304509467526</td><td>0.005</td><td>0.13484539100839807</td><td>0.006</td><td>0.22571735741698373</td><td>0.003</td><td>0.21314242128613423</td><td>0.008</td><td>0.01783028042476841</td><td>0.005</td><td>-0.16223689314414702</td><td>0.004</td><td>0.12260540169168309</td><td>0.004</td><td>-0.05394600865761602</td><td>0.005</td><td>0.2315610291078881</td><td>0.003</td><td>-0.07956046441771972</td><td>0.005</td><td>-0.2443681328253119</td><td>0.009</td><td>0.07632687657834421</td><td>0.008</td><td>-0.17254035608525065</td><td>0.009000000000000001</td><td>-0.3345467053757812</td><td>0.020999999999999998</td><td>0.07389504160256832</td><td>0.008</td></tr>\n",
       "<tr><td>HIP96160</td><td>2.6</td><td>0.5</td><td>-0.08836939885020276</td><td>0.003</td><td>0.16424797676453404</td><td>0.007</td><td>0.2553209968721536</td><td>0.014</td><td>0.025945304509467526</td><td>0.01</td><td>0.09884539100839808</td><td>0.003</td><td>0.21671735741698372</td><td>0.004</td><td>0.20714242128613422</td><td>0.013</td><td>0.032830280424768404</td><td>0.005</td><td>-0.15723689314414702</td><td>0.007</td><td>0.09160540169168309</td><td>0.004</td><td>-0.07294600865761602</td><td>0.006</td><td>0.1855610291078881</td><td>0.004</td><td>-0.15656046441771973</td><td>0.013</td><td>-0.2793681328253119</td><td>0.008</td><td>0.025076876578344204</td><td>0.008</td><td>-0.1665908611357557</td><td>0.011</td><td>-0.34238003870911454</td><td>0.018</td><td>0.08789504160256832</td><td>0.013000000000000001</td></tr>\n",
       "</table>"
      ],
      "text/plain": [
       "<Table length=79>\n",
       "star_name   age   age_err ...          Cr                Cr_err       \n",
       "  bytes9  float64 float64 ...       float64             float64       \n",
       "--------- ------- ------- ... ------------------- --------------------\n",
       " HIP10175     3.2     0.4 ... 0.08564504160256833                0.012\n",
       "HIP101905     1.2     0.3 ... 0.07314504160256834                0.016\n",
       "HIP102040     2.4     0.4 ... 0.07064504160256833                0.016\n",
       "HIP102152     8.6     0.3 ...  0.0756642723717991                0.013\n",
       " HIP10303     5.8     0.4 ... 0.08547837493590167                0.012\n",
       "HIP104045     4.5     0.5 ... 0.08089504160256833                 0.01\n",
       "HIP105184     0.7     0.4 ...   0.087561708269235 0.018000000000000002\n",
       "HIP108158     8.1     0.3 ... 0.09594266065018738                0.021\n",
       "HIP108468     7.0     0.3 ... 0.07674119544872218                0.013\n",
       "HIP109821     8.9     0.3 ... 0.07239504160256832                 0.01\n",
       "      ...     ...     ... ...                 ...                  ...\n",
       " HIP79672     4.0     0.4 ... 0.08525867796620469                0.011\n",
       " HIP81746     8.1     0.3 ...  0.0741677688752956                0.011\n",
       " HIP83276     7.4     0.3 ... 0.07318915924962716                0.017\n",
       " HIP85042     7.8     0.3 ... 0.07500615271367944 0.009000000000000001\n",
       "  HIP8507     4.8     0.5 ... 0.08453140523893198                0.011\n",
       " HIP87769     4.6     0.6 ... 0.08939504160256834                 0.01\n",
       " HIP89650     4.6     0.5 ... 0.07862231432984106                0.011\n",
       "  HIP9349     0.7     0.4 ... 0.08770754160256833                0.016\n",
       " HIP95962     6.0     0.3 ... 0.07389504160256832                0.008\n",
       " HIP96160     2.6     0.5 ... 0.08789504160256832 0.013000000000000001"
      ]
     },
     "execution_count": 46,
     "metadata": {},
     "output_type": "execute_result"
    }
   ],
   "source": [
    "data"
   ]
  },
  {
   "cell_type": "code",
   "execution_count": 47,
   "metadata": {},
   "outputs": [],
   "source": [
    "data.write('../data/STs_chempy_sun_adjusted.fits', overwrite=True)"
   ]
  }
 ],
 "metadata": {
  "kernelspec": {
   "display_name": "Python 3",
   "language": "python",
   "name": "python3"
  },
  "language_info": {
   "codemirror_mode": {
    "name": "ipython",
    "version": 3
   },
   "file_extension": ".py",
   "mimetype": "text/x-python",
   "name": "python",
   "nbconvert_exporter": "python",
   "pygments_lexer": "ipython3",
   "version": "3.6.0"
  }
 },
 "nbformat": 4,
 "nbformat_minor": 2
}
