{
 "cells": [
  {
   "cell_type": "markdown",
   "metadata": {},
   "source": [
    "## Interpreting abundances with chempy"
   ]
  },
  {
   "cell_type": "code",
   "execution_count": 1,
   "metadata": {},
   "outputs": [
    {
     "name": "stdout",
     "output_type": "stream",
     "text": [
      "Populating the interactive namespace from numpy and matplotlib\n"
     ]
    }
   ],
   "source": [
    "%pylab inline"
   ]
  },
  {
   "cell_type": "code",
   "execution_count": 2,
   "metadata": {},
   "outputs": [],
   "source": [
    "import numpy as np\n",
    "import matplotlib.pyplot as plt\n",
    "from astropy.table import Table"
   ]
  },
  {
   "cell_type": "code",
   "execution_count": 3,
   "metadata": {},
   "outputs": [],
   "source": [
    "data = Table.read('../data/STs_for_chempy.fits', format='fits')\n",
    "el_names = data.colnames[3::2] # magic\n",
    "err_names = data.colnames[4::2]"
   ]
  },
  {
   "cell_type": "markdown",
   "metadata": {},
   "source": [
    "#### load up Jan's Solar abundances:"
   ]
  },
  {
   "cell_type": "code",
   "execution_count": 4,
   "metadata": {},
   "outputs": [
    {
     "name": "stdout",
     "output_type": "stream",
     "text": [
      "Fe -0.05236939885020275 +- 0.061973267953103796\n",
      "O 0.14124797676453404 +- 0.07958465573507391\n",
      "Na 0.2703209968721536 +- 0.07845643376718812\n",
      "Mg 0.025945304509467526 +- 0.07041198047974788\n",
      "Al 0.11384539100839808 +- 0.08147465702227544\n",
      "Si 0.21571735741698372 +- 0.037009385325165914\n",
      "S 0.19014242128613423 +- 0.039907886691498966\n",
      "Ca 0.00883028042476841 +- 0.04411411675457362\n",
      "V -0.16723689314414703 +- 0.02841648899149541\n",
      "Mn 0.11060540169168309 +- 0.03927567799253105\n",
      "Co -0.06394600865761602 +- 0.06060708205475778\n",
      "Ni 0.2165610291078881 +- 0.025279463574813043\n",
      "Cu -0.10756046441771971 +- 0.10607712986082651\n",
      "Zn -0.2513681328253119 +- 0.07967744528596993\n",
      "C 0.057576876578344205 +- 0.06783522714011568\n",
      "Ti -0.17631813386302841 +- 0.04299903911234888\n",
      "Sc -0.34388003870911454 +- 0.10127600441322712\n",
      "Cr 0.07789504160256833 +- 0.010311644615551785\n"
     ]
    }
   ],
   "source": [
    "x = np.load(\"../data/[2]posterior_100_Sun-predictions.npy\")\n",
    "y = np.load(\"../data/[3]predicted_element_names.npy\")\n",
    "for i,item in enumerate(y):\n",
    "    print(item,np.median(x[:,i]),'+-',np.std(x[:,i]))"
   ]
  },
  {
   "cell_type": "code",
   "execution_count": 5,
   "metadata": {},
   "outputs": [
    {
     "data": {
      "image/png": "[encoded data removed]",
      "text/plain": [
       "<Figure size 432x288 with 1 Axes>"
      ]
     },
     "metadata": {},
     "output_type": "display_data"
    }
   ],
   "source": [
    "plt.errorbar(np.arange(len(y)), np.median(x, axis=0), yerr=np.std(x, axis=0), fmt='o')\n",
    "plt.xticks(np.arange(len(y)), y);"
   ]
  },
  {
   "cell_type": "markdown",
   "metadata": {},
   "source": [
    "#### now make a new dataset having propagated the Solar offsets through:"
   ]
  },
  {
   "cell_type": "code",
   "execution_count": 6,
   "metadata": {},
   "outputs": [],
   "source": [
    "el_to_delete = np.asarray(el_names)[~np.isin(el_names, y)]"
   ]
  },
  {
   "cell_type": "code",
   "execution_count": 7,
   "metadata": {},
   "outputs": [],
   "source": [
    "data.remove_columns(el_to_delete)"
   ]
  },
  {
   "cell_type": "code",
   "execution_count": 8,
   "metadata": {},
   "outputs": [],
   "source": [
    "data.remove_columns(['{0}_err'.format(e) for e in el_to_delete])"
   ]
  },
  {
   "cell_type": "code",
   "execution_count": 9,
   "metadata": {},
   "outputs": [],
   "source": [
    "for i,item in enumerate(y):\n",
    "    data[item] += np.median(x[:,i])"
   ]
  },
  {
   "cell_type": "code",
   "execution_count": 10,
   "metadata": {},
   "outputs": [],
   "source": [
    "data.write('../data/STs_chempy_sun_adjusted.fits', overwrite=True)"
   ]
  },
  {
   "cell_type": "markdown",
   "metadata": {},
   "source": [
    "#### look at Jan's fits to solar twins"
   ]
  },
  {
   "cell_type": "code",
   "execution_count": 11,
   "metadata": {},
   "outputs": [],
   "source": [
    "# go back to original abundances\n",
    "for i,item in enumerate(y):\n",
    "    data[item] -= np.median(x[:,i])"
   ]
  },
  {
   "cell_type": "code",
   "execution_count": 12,
   "metadata": {},
   "outputs": [
    {
     "data": {
      "text/html": [
       "&lt;Column name=&apos;O&apos; dtype=&apos;float64&apos; length=79&gt;\n",
       "<table>\n",
       "<tr><td>0.023999999999999994</td></tr>\n",
       "<tr><td>-0.06899999999999999</td></tr>\n",
       "<tr><td>0.021999999999999992</td></tr>\n",
       "<tr><td>0.05099999999999999</td></tr>\n",
       "<tr><td>-0.022999999999999993</td></tr>\n",
       "<tr><td>-0.015999999999999986</td></tr>\n",
       "<tr><td>-0.0050000000000000044</td></tr>\n",
       "<tr><td>0.14300000000000002</td></tr>\n",
       "<tr><td>0.05499999999999999</td></tr>\n",
       "<tr><td>0.123</td></tr>\n",
       "<tr><td>nan</td></tr>\n",
       "<tr><td>0.038000000000000006</td></tr>\n",
       "<tr><td>...</td></tr>\n",
       "<tr><td>0.0010000000000000009</td></tr>\n",
       "<tr><td>0.038000000000000006</td></tr>\n",
       "<tr><td>-0.0040000000000000036</td></tr>\n",
       "<tr><td>0.066</td></tr>\n",
       "<tr><td>0.07200000000000001</td></tr>\n",
       "<tr><td>0.024999999999999994</td></tr>\n",
       "<tr><td>0.018000000000000016</td></tr>\n",
       "<tr><td>-0.006000000000000005</td></tr>\n",
       "<tr><td>0.046999999999999986</td></tr>\n",
       "<tr><td>0.0030000000000000027</td></tr>\n",
       "<tr><td>0.0020000000000000018</td></tr>\n",
       "<tr><td>0.022999999999999993</td></tr>\n",
       "</table>"
      ],
      "text/plain": [
       "<Column name='O' dtype='float64' length=79>\n",
       "  0.023999999999999994\n",
       "  -0.06899999999999999\n",
       "  0.021999999999999992\n",
       "   0.05099999999999999\n",
       " -0.022999999999999993\n",
       " -0.015999999999999986\n",
       "-0.0050000000000000044\n",
       "   0.14300000000000002\n",
       "   0.05499999999999999\n",
       "                 0.123\n",
       "                   nan\n",
       "  0.038000000000000006\n",
       "                   ...\n",
       " 0.0010000000000000009\n",
       "  0.038000000000000006\n",
       "-0.0040000000000000036\n",
       "                 0.066\n",
       "   0.07200000000000001\n",
       "  0.024999999999999994\n",
       "  0.018000000000000016\n",
       " -0.006000000000000005\n",
       "  0.046999999999999986\n",
       " 0.0030000000000000027\n",
       " 0.0020000000000000018\n",
       "  0.022999999999999993"
      ]
     },
     "execution_count": 12,
     "metadata": {},
     "output_type": "execute_result"
    }
   ],
   "source": [
    "data['O']"
   ]
  },
  {
   "cell_type": "code",
   "execution_count": 13,
   "metadata": {},
   "outputs": [],
   "source": [
    "import copy\n",
    "chempy_data = copy.deepcopy(data)"
   ]
  },
  {
   "cell_type": "code",
   "execution_count": 14,
   "metadata": {},
   "outputs": [],
   "source": [
    "x = np.load(\"../data/posterior_elemental_abundances/{0}_posterior_100_blobs.npy\".format(0))"
   ]
  },
  {
   "cell_type": "code",
   "execution_count": 15,
   "metadata": {},
   "outputs": [
    {
     "name": "stdout",
     "output_type": "stream",
     "text": [
      "star 10 not found\n"
     ]
    }
   ],
   "source": [
    "y = np.load(\"../data/posterior_elemental_abundances/blobs_elements.npy\")\n",
    "for i in range(len(chempy_data)):\n",
    "    try:\n",
    "        x = np.load(\"../data/posterior_elemental_abundances/{0}_posterior_100_blobs.npy\".format(i))\n",
    "        abunds = np.median(x, axis=0)\n",
    "        for el,ab in zip(y,abunds):\n",
    "            chempy_data[i][el] = ab\n",
    "    except:\n",
    "        print(\"star {0} not found\".format(i))"
   ]
  },
  {
   "cell_type": "code",
   "execution_count": 18,
   "metadata": {},
   "outputs": [],
   "source": [
    "def pca(data_table):\n",
    "    N = len(data_table) # will be over-written\n",
    "    D = len(y)\n",
    "    data1 = np.zeros((N, D))\n",
    "    data1_err = np.zeros((N, D))\n",
    "    for d, spn in enumerate(y):\n",
    "        data1[:, d] = np.asarray(data_table[spn])\n",
    "        data1_err[:, d] = np.asarray(data_table[spn+'_err'])\n",
    "        \n",
    "    # FOR NOW: remove one bad object -- HACK\n",
    "    good = np.isfinite(data1)\n",
    "    bad = ~good\n",
    "    mask = np.sum(bad, axis=1) == 0\n",
    "    data1 = data1[mask] # remove one star with one missing abundance\n",
    "    data1_err = data1_err[mask]\n",
    "    N, D = data1.shape # over-write\n",
    "    \n",
    "    mean = np.mean(data1, axis=0)\n",
    "    dd = data1 - mean[None, :]\n",
    "    u, s, vecs = np.linalg.svd(dd, full_matrices=False)\n",
    "    amps = u * s[None, :]\n",
    "    # reconstruction = mean[None, :] + np.dot(pcas, v)\n",
    "    # print(data - reconstruction)\n",
    "    return vecs, amps"
   ]
  },
  {
   "cell_type": "code",
   "execution_count": 19,
   "metadata": {},
   "outputs": [],
   "source": [
    "data_vecs, data_amps = pca(data)\n",
    "data_eigenvals = np.sum(data_amps * data_amps, axis=0)\n",
    "chempy_vecs, chempy_amps = pca(chempy_data)\n",
    "chempy_eigenvals = np.sum(chempy_amps * chempy_amps, axis=0)"
   ]
  },
  {
   "cell_type": "code",
   "execution_count": 24,
   "metadata": {},
   "outputs": [
    {
     "data": {
      "text/plain": [
       "<matplotlib.legend.Legend at 0x10770ef60>"
      ]
     },
     "execution_count": 24,
     "metadata": {},
     "output_type": "execute_result"
    },
    {
     "data": {
      "image/png": "[encoded data removed]",
      "text/plain": [
       "<Figure size 432x288 with 1 Axes>"
      ]
     },
     "metadata": {},
     "output_type": "display_data"
    }
   ],
   "source": [
    "plt.scatter(np.arange(len(data_eigenvals)), data_eigenvals, color=\"k\", label='data')\n",
    "plt.scatter(np.arange(len(chempy_eigenvals)), chempy_eigenvals, color=\"r\", alpha=0.8, label='chempy fits')\n",
    "plt.semilogy()\n",
    "plt.ylim(1.e-5, 10.)\n",
    "plt.grid(alpha=0.3)\n",
    "plt.title('Eigenvalues', fontsize=16)\n",
    "plt.legend(fontsize=14)\n",
    "#plt.savefig('eigenvals.png')"
   ]
  },
  {
   "cell_type": "code",
   "execution_count": null,
   "metadata": {},
   "outputs": [],
   "source": []
  }
 ],
 "metadata": {
  "kernelspec": {
   "display_name": "Python 3",
   "language": "python",
   "name": "python3"
  },
  "language_info": {
   "codemirror_mode": {
    "name": "ipython",
    "version": 3
   },
   "file_extension": ".py",
   "mimetype": "text/x-python",
   "name": "python",
   "nbconvert_exporter": "python",
   "pygments_lexer": "ipython3",
   "version": "3.6.0"
  }
 },
 "nbformat": 4,
 "nbformat_minor": 2
}
